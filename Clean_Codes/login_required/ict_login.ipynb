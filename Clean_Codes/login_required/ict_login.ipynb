{
 "cells": [
  {
   "cell_type": "code",
   "execution_count": 1,
   "id": "47bcca22",
   "metadata": {},
   "outputs": [],
   "source": [
    "import requests\n",
    "from bs4 import BeautifulSoup\n",
    "import pandas as pd\n",
    "import re\n",
    "import urllib.request\n",
    "from unidecode import unidecode\n",
    "\n",
    "import os\n",
    "from PIL import Image, ImageOps\n",
    "import numpy as np\n",
    "from keras_preprocessing.sequence import pad_sequences\n",
    "\n",
    "from keras.layers import Dense, LSTM, Reshape, BatchNormalization, Input, Conv2D, MaxPool2D, Lambda, Bidirectional\n",
    "from keras.models import Model\n",
    "import keras.backend as K\n",
    "from keras.callbacks import ModelCheckpoint\n",
    "\n",
    "import time\n",
    "from datetime import datetime\n",
    "\n",
    "from selenium import webdriver\n",
    "from selenium.webdriver.support.ui import WebDriverWait\n",
    "from selenium.webdriver.common.by import By\n",
    "from unidecode import unidecode"
   ]
  },
  {
   "cell_type": "code",
   "execution_count": 2,
   "id": "e5436030",
   "metadata": {},
   "outputs": [],
   "source": [
    "def captcha_solver(address):\n",
    "    filenames = []\n",
    "    for dirname, _, files in os.walk(address):\n",
    "        for f in files:\n",
    "            filenames = np.append(filenames, f)\n",
    "\n",
    "    num_samples = len(filenames)\n",
    "    print('number of samples: ', num_samples)\n",
    "\n",
    "    char_list = \"0123456789\"\n",
    "\n",
    "\n",
    "    def encode_to_labels(txt):\n",
    "        # encoding each label into list of digits\n",
    "        encoded_list = []\n",
    "        for char in txt:\n",
    "            encoded_list.append(char_list.index(char))\n",
    "\n",
    "        return encoded_list\n",
    "\n",
    "\n",
    "    path = r'D:/hiweb/exports/temp/'\n",
    "\n",
    "    # lists for training dataset\n",
    "    training_img = []  # the images for training the model\n",
    "    training_txt = []  # the labels\n",
    "    train_input_length = []  # the input of LSTM part of the model\n",
    "    train_label_length = []  # the label's length (4 to 7)\n",
    "    train_orig_txt = []\n",
    "\n",
    "    # lists for validation dataset\n",
    "    valid_img = []\n",
    "    valid_txt = []\n",
    "    valid_input_length = []\n",
    "    valid_label_length = []\n",
    "    valid_orig_txt = []\n",
    "\n",
    "    max_label_len = 0  # max length for our labels (in this case 7)\n",
    "\n",
    "    for file in filenames:\n",
    "        raw = Image.open(path + file)\n",
    "        gray = ImageOps.grayscale(raw)\n",
    "        img = np.array(gray)\n",
    "        img = np.expand_dims(img, axis=2)\n",
    "        img = img / 255.\n",
    "\n",
    "        txt = file.split('.')[0]\n",
    "\n",
    "        if len(txt) > max_label_len:\n",
    "            max_label_len = len(txt)\n",
    "\n",
    "        # split the dataset (85% train, 15% test)\n",
    "        if np.random.rand() >= 0:\n",
    "            valid_orig_txt.append(txt)\n",
    "            valid_label_length.append(len(txt))\n",
    "            valid_input_length.append(75)\n",
    "            valid_img.append(img)\n",
    "            valid_txt.append(encode_to_labels(txt))\n",
    "        else:\n",
    "            train_orig_txt.append(txt)\n",
    "            train_label_length.append(len(txt))\n",
    "            train_input_length.append(75)\n",
    "            training_img.append(img)\n",
    "            training_txt.append(encode_to_labels(txt))\n",
    "\n",
    "    train_padded_txt = pad_sequences(training_txt, maxlen=max_label_len, padding='post', value=len(char_list))\n",
    "    valid_padded_txt = pad_sequences(valid_txt, maxlen=max_label_len, padding='post', value=len(char_list))\n",
    "\n",
    "\n",
    "    def ctc_lambda_func(args):\n",
    "        y_pred, labels, input_length, label_length = args\n",
    "\n",
    "        return K.ctc_batch_cost(labels, y_pred, input_length, label_length)\n",
    "\n",
    "\n",
    "    training_img = np.array(training_img)\n",
    "    train_input_length = np.array(train_input_length)\n",
    "    train_label_length = np.array(train_label_length)\n",
    "\n",
    "    valid_img = np.array(valid_img)\n",
    "    valid_input_length = np.array(valid_input_length)\n",
    "    valid_label_length = np.array(valid_label_length)\n",
    "\n",
    "    training_txt = np.array(training_txt)\n",
    "    valid_txt = np.array(valid_txt)\n",
    "\n",
    "    inputs = Input(shape=(64, 306, 1))\n",
    "\n",
    "    conv_1 = Conv2D(64, (3, 3), activation='relu', padding='same')(inputs)\n",
    "    pool_1 = MaxPool2D(pool_size=(2, 2), strides=2)(conv_1)\n",
    "\n",
    "    conv_2 = Conv2D(128, (3, 3), activation='relu', padding='same')(pool_1)\n",
    "    pool_2 = MaxPool2D(pool_size=(2, 2), strides=2)(conv_2)\n",
    "\n",
    "    conv_3 = Conv2D(256, (3, 3), activation='relu', padding='same')(pool_2)\n",
    "    conv_4 = Conv2D(256, (3, 3), activation='relu', padding='same')(conv_3)\n",
    "    pool_4 = MaxPool2D(pool_size=(2, 1))(conv_4)\n",
    "\n",
    "    conv_5 = Conv2D(512, (3, 3), activation='relu', padding='same')(pool_4)\n",
    "    batch_norm_5 = BatchNormalization()(conv_5)\n",
    "\n",
    "    conv_6 = Conv2D(512, (3, 3), activation='relu', padding='same')(batch_norm_5)\n",
    "    batch_norm_6 = BatchNormalization()(conv_6)\n",
    "    pool_6 = MaxPool2D(pool_size=(2, 1))(batch_norm_6)\n",
    "\n",
    "    conv_7 = Conv2D(512, (3, 3), activation='relu', padding='same')(pool_6)\n",
    "    batch_norm_7 = BatchNormalization()(conv_7)\n",
    "    pool_7 = MaxPool2D(pool_size=(2, 1))(batch_norm_7)\n",
    "\n",
    "    conv_8 = Conv2D(512, (2, 2), activation='relu')(pool_7)\n",
    "\n",
    "    squeezed = Lambda(lambda x: K.squeeze(x, 1))(conv_8)\n",
    "\n",
    "    blstm_1 = Bidirectional(LSTM(128, return_sequences=True, dropout=0.2))(squeezed)\n",
    "    blstm_2 = Bidirectional(LSTM(128, return_sequences=True, dropout=0.2))(blstm_1)\n",
    "\n",
    "    outputs = Dense(len(char_list) + 1, activation='softmax')(blstm_2)\n",
    "    prediction_model = Model(inputs, outputs)\n",
    "    # load the model weights\n",
    "    prediction_model.load_weights('D:\\hiweb\\model_weights_V1_1413data.hdf5')\n",
    "\n",
    "    # predict outputs on validation images\n",
    "    prediction = prediction_model.predict(valid_img[:20])\n",
    "\n",
    "    # use CTC decoder\n",
    "    out = K.get_value(K.ctc_decode(prediction, input_length=np.ones(prediction.shape[0]) * prediction.shape[1],\n",
    "                                   greedy=True)[0][0])\n",
    "\n",
    "    # see the results\n",
    "    i = 0\n",
    "    pred = ''\n",
    "    for x in out:\n",
    "    #     print(\"original_text =  \", valid_orig_txt[i])\n",
    "    #     print(\"predicted text = \", end='')\n",
    "        for p in x:\n",
    "            if int(p) != -1:\n",
    "\n",
    "                pred += str(p)\n",
    "    #             print(char_list[int(p)], end='')\n",
    "        print('\\n')\n",
    "        i += 1\n",
    "    return((pred))"
   ]
  },
  {
   "cell_type": "code",
   "execution_count": 3,
   "id": "2043b108",
   "metadata": {},
   "outputs": [
    {
     "name": "stderr",
     "output_type": "stream",
     "text": [
      "C:\\Users\\saeed\\AppData\\Local\\Temp\\ipykernel_24432\\3484337640.py:1: DeprecationWarning: executable_path has been deprecated, please pass in a Service object\n",
      "  driver = webdriver.Chrome(\"r'C:/Users/saeed/Downloads/Compressed/chromedriver_win32\")\n"
     ]
    }
   ],
   "source": [
    "driver = webdriver.Chrome(\"r'C:/Users/saeed/Downloads/Compressed/chromedriver_win32\")"
   ]
  },
  {
   "cell_type": "code",
   "execution_count": 4,
   "id": "d23e21ca",
   "metadata": {},
   "outputs": [],
   "source": [
    "# head to github login page\n",
    "driver.get(\"https://adsl.tci.ir/panel/\")"
   ]
  },
  {
   "cell_type": "code",
   "execution_count": 5,
   "id": "c68bf431",
   "metadata": {},
   "outputs": [
    {
     "data": {
      "text/plain": [
       "('D:\\\\hiweb\\\\exports\\\\temp\\\\0000.png',\n",
       " <http.client.HTTPMessage at 0x1b6c48ebf70>)"
      ]
     },
     "execution_count": 5,
     "metadata": {},
     "output_type": "execute_result"
    }
   ],
   "source": [
    "img = driver.find_element(By.ID,'loginCaptchaImage')\n",
    "# driver.find_element(By.XPATH,'/html/body/div/div[2]/div[1]/div/div[2]/form/div[4]/img')\n",
    "src = img.get_attribute('src')\n",
    "\n",
    "# download the image\n",
    "urllib.request.urlretrieve(src, r\"D:\\hiweb\\exports\\temp\\0000.png\")"
   ]
  },
  {
   "cell_type": "code",
   "execution_count": 6,
   "id": "a52d4765",
   "metadata": {},
   "outputs": [],
   "source": [
    "from PIL import Image\n",
    "\n",
    "element = driver.find_element(By.ID, \"loginCaptchaImage\")\n",
    "\n",
    "location = element.location\n",
    "size = element.size\n",
    "\n",
    "driver.save_screenshot(r\"D:\\hiweb\\exports\\temp\\0000.png\")\n",
    "\n",
    "x = location['x']\n",
    "y = location['y']\n",
    "w = size['width']\n",
    "h = size['height']\n",
    "width = x + w\n",
    "height = y + h\n",
    "\n",
    "im = Image.open(r\"D:\\hiweb\\exports\\temp\\0000.png\")\n",
    "im = im.crop((int(x), int(y), int(width), int(height)))\n",
    "im = im.resize((306, 64))\n",
    "im.save(r\"D:\\hiweb\\exports\\temp\\0000.png\")"
   ]
  },
  {
   "cell_type": "code",
   "execution_count": 7,
   "id": "00481f4f",
   "metadata": {},
   "outputs": [
    {
     "name": "stdout",
     "output_type": "stream",
     "text": [
      "number of samples:  1\n",
      "1/1 [==============================] - 1s 1s/step\n",
      "\n",
      "\n"
     ]
    },
    {
     "data": {
      "text/plain": [
       "'903093'"
      ]
     },
     "execution_count": 7,
     "metadata": {},
     "output_type": "execute_result"
    }
   ],
   "source": [
    "\n",
    "captcha = captcha_solver('D:/hiweb/exports/temp')\n",
    "captcha"
   ]
  },
  {
   "cell_type": "code",
   "execution_count": 8,
   "id": "3921035b",
   "metadata": {},
   "outputs": [],
   "source": [
    "# Github credentials\n",
    "username = '2177492386'\n",
    "password = '216011'\n"
   ]
  },
  {
   "cell_type": "code",
   "execution_count": 9,
   "id": "23939188",
   "metadata": {},
   "outputs": [],
   "source": [
    "# find username/email field and send the username itself to the input field\n",
    "driver.find_element(By.XPATH,'/html/body/div/div[2]/div[1]/div/div[2]/form/div[2]/input').send_keys(username)\n",
    "\n",
    "# find password input field and insert password as well\n",
    "driver.find_element(By.XPATH,'/html/body/div/div[2]/div[1]/div/div[2]/form/div[3]/input').send_keys(password)\n",
    "\n",
    "#captcha\n",
    "driver.find_element(By.XPATH,'/html/body/div/div[2]/div[1]/div/div[2]/form/div[5]/input').send_keys(captcha)"
   ]
  },
  {
   "cell_type": "code",
   "execution_count": 10,
   "id": "a383f5c1",
   "metadata": {},
   "outputs": [],
   "source": [
    "# click login button\n",
    "driver.find_element(By.XPATH,'/html/body/div/div[2]/div[1]/div/div[2]/form/div[6]/button').click()"
   ]
  },
  {
   "cell_type": "code",
   "execution_count": 11,
   "id": "f16ed040",
   "metadata": {},
   "outputs": [
    {
     "name": "stdout",
     "output_type": "stream",
     "text": [
      "[+] Login successful\n"
     ]
    }
   ],
   "source": [
    "# wait the ready state to be complete\n",
    "WebDriverWait(driver=driver, timeout=10).until(\n",
    "    lambda x: x.execute_script(\"return document.readyState === 'complete'\")\n",
    ")\n",
    "error_message = \"کد امنیتی وارد شده نادرست است.\"\n",
    "\n",
    "# get the errors (if there are)\n",
    "errors = driver.find_elements(By.XPATH,\"/html/body/div[2]\")\n",
    "\n",
    "# if we find that error message within errors, then login is failed\n",
    "if any(error_message in e.text for e in errors):\n",
    "    print(\"[!] Login failed\")\n",
    "else:\n",
    "    print(\"[+] Login successful\")"
   ]
  },
  {
   "cell_type": "code",
   "execution_count": 12,
   "id": "89aa701b",
   "metadata": {},
   "outputs": [],
   "source": [
    "driver.get('https://adsl.tci.ir/panel/change-service')"
   ]
  },
  {
   "cell_type": "code",
   "execution_count": null,
   "id": "87ce1074",
   "metadata": {},
   "outputs": [],
   "source": []
  },
  {
   "cell_type": "code",
   "execution_count": 13,
   "id": "59db1465",
   "metadata": {},
   "outputs": [],
   "source": [
    "\n",
    "\n",
    "\n",
    "\n",
    "# from selenium.webdriver.support.ui import WebDriverWait \n",
    "# from selenium.webdriver.support import expected_conditions as EC\n",
    "# items = WebDriverWait(driver,30).until(EC.presence_of_all_elements_located((By.XPATH, '//div[contains(@class, \"uk-card uk-card-default\")]')))"
   ]
  },
  {
   "cell_type": "code",
   "execution_count": 16,
   "id": "f8ec4c97",
   "metadata": {
    "scrolled": true
   },
   "outputs": [],
   "source": [
    "from unidecode import unidecode\n",
    "\n",
    "product_type, traffic, bandwidth, duration, FCP, price = [], [], [], [], [], []\n",
    "items = driver.find_elements(By.XPATH, '//div[contains(@class, \"uk-card uk-card-default\")]')\n",
    "items = items[5:]\n",
    "cards = []\n",
    "for item in items:\n",
    "    cards.append(item.text)\n",
    "    \n",
    "for card in cards:\n",
    "    card = card.replace('+', '*')\n",
    "    card = card.replace('-', '*')\n",
    "    card = card.replace('\\n', '*')\n",
    "    card = card.replace('/', '*')\n",
    "    card = card.split('*')\n",
    "    traffic.append(card[0])\n",
    "    FCP.append('TCI')\n",
    "    product_type.append('سرویس')\n",
    "    for i in range(len(card)):\n",
    "        if 'ریال' in card[i]:\n",
    "            price.append(card[i])\n",
    "        if 'مگابیت در ثانیه' in card[i]:\n",
    "            bandwidth.append(card[i])\n",
    "        if 'قرارداد' in card[i]:\n",
    "            duration.append(card[i])\n",
    "            \n"
   ]
  },
  {
   "cell_type": "code",
   "execution_count": 17,
   "id": "c68b7724",
   "metadata": {},
   "outputs": [],
   "source": [
    "traffic = [(x.split(' '))[0] for x in traffic]\n",
    "traffic = [unidecode(x) for x in traffic]\n",
    "\n",
    "bandwidth = [(x.split(' '))[0] for x in bandwidth]\n",
    "bandwidth = [unidecode(x) for x in bandwidth]\n",
    "bandwidth = [int(x) for x in bandwidth]\n",
    "\n",
    "duration = [(x.split(' '))[2] if x!='NaN' else 0 for x in duration]\n",
    "duration = [unidecode(x) for x in duration]\n",
    "duration = [int(x) for x in duration]\n",
    "\n",
    "price = [(x.split(' '))[2] for x in price]\n",
    "price = [unidecode(x) for x in price]\n",
    "price = [x.replace(',','') for x in price]\n",
    "price = [int(x) for x in price]\n",
    "\n",
    "traffic = [int(x) for x in traffic]"
   ]
  },
  {
   "cell_type": "code",
   "execution_count": 18,
   "id": "a070188b",
   "metadata": {},
   "outputs": [],
   "source": [
    "# traffic"
   ]
  },
  {
   "cell_type": "code",
   "execution_count": null,
   "id": "995c8a65",
   "metadata": {},
   "outputs": [],
   "source": []
  },
  {
   "cell_type": "code",
   "execution_count": 19,
   "id": "870853fa",
   "metadata": {},
   "outputs": [],
   "source": [
    "dataset = pd.DataFrame(({'FCP':FCP,'product type':product_type, 'traffic':traffic,'bandwidth':bandwidth, 'duration':duration, 'price':price}))\n"
   ]
  },
  {
   "cell_type": "code",
   "execution_count": 20,
   "id": "181cecce",
   "metadata": {},
   "outputs": [
    {
     "name": "stdout",
     "output_type": "stream",
     "text": [
      "everything is same for TCI\n"
     ]
    }
   ],
   "source": [
    "the_latest_tci_addresss = os.listdir('D:/hiweb/exports/Clean_Codes/login_required/exported_data/tci/')[-1]\n",
    "the_latest_tci = pd.read_csv(f'D:/hiweb/exports/Clean_Codes/login_required/exported_data/tci/{the_latest_tci_addresss}')\n",
    "\n",
    "date = datetime.today().strftime('%Y-%m-%d')\n",
    "a = int(time.time())\n",
    "\n",
    "\n",
    "if ((list(dataset['price']) != list(the_latest_tci['price'])) or \\\n",
    "        (list(dataset['bandwidth']) != list(the_latest_tci['bandwidth'])) or \\\n",
    "        (list(dataset['traffic']) != list(the_latest_tci['traffic']))):\n",
    "    dataset.to_csv(f'D:/hiweb/exports/Clean_Codes/login_required/exported_data/tci/TCI_{date}_{a}.csv.csv',encoding='utf-8-sig', index=False)\n",
    "    print('the newest version of TCI is saved')\n",
    "else:\n",
    "    print('everything is same for TCI')\n"
   ]
  },
  {
   "cell_type": "code",
   "execution_count": null,
   "id": "cd9387d6",
   "metadata": {},
   "outputs": [],
   "source": [
    "\n",
    "# dataset.to_csv(f'TCI_{date}_{time}.csv', encoding='utf-8-sig', index=False)\n",
    "        "
   ]
  },
  {
   "cell_type": "code",
   "execution_count": null,
   "id": "e8647acc",
   "metadata": {},
   "outputs": [],
   "source": [
    "# print(len(product_type))\n",
    "# print(len(traffic))\n",
    "# print(len(bandwidth))\n",
    "# print(len(duration))\n",
    "# print(len(FCP))\n",
    "# print(len(price))"
   ]
  },
  {
   "cell_type": "code",
   "execution_count": null,
   "id": "8a1c38ce",
   "metadata": {},
   "outputs": [],
   "source": []
  },
  {
   "cell_type": "code",
   "execution_count": null,
   "id": "285dab5a",
   "metadata": {},
   "outputs": [],
   "source": []
  }
 ],
 "metadata": {
  "kernelspec": {
   "display_name": "Python 3 (ipykernel)",
   "language": "python",
   "name": "python3"
  },
  "language_info": {
   "codemirror_mode": {
    "name": "ipython",
    "version": 3
   },
   "file_extension": ".py",
   "mimetype": "text/x-python",
   "name": "python",
   "nbconvert_exporter": "python",
   "pygments_lexer": "ipython3",
   "version": "3.9.13"
  }
 },
 "nbformat": 4,
 "nbformat_minor": 5
}
